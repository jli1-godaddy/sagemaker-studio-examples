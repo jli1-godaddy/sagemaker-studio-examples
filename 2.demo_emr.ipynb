{
 "cells": [
  {
   "cell_type": "code",
   "execution_count": 42,
   "id": "b1270a88-5fda-4ee3-8138-0509c19576a3",
   "metadata": {
    "tags": []
   },
   "outputs": [
    {
     "name": "stdout",
     "output_type": "stream",
     "text": [
      "The sagemaker_studio_analytics_extension.magics extension is already loaded. To reload it, use:\n",
      "  %reload_ext sagemaker_studio_analytics_extension.magics\n",
      "Successfully read emr cluster(j-1OJGFWLF2O1O8) details\n",
      "Initiating EMR connection..\n",
      "Starting Spark application\n"
     ]
    },
    {
     "data": {
      "text/html": [
       "<table>\n",
       "<tr><th>ID</th><th>YARN Application ID</th><th>Kind</th><th>State</th><th>Spark UI</th><th>Driver log</th><th>User</th><th>Current session?</th></tr><tr><td>12</td><td>application_1729270775885_0014</td><td>pyspark</td><td>idle</td><td><a target=\"_blank\" href=\"http://ip-192-168-19-231.us-west-2.compute.internal:20888/proxy/application_1729270775885_0014/\">Link</a></td><td><a target=\"_blank\" href=\"http://ip-192-168-16-14.us-west-2.compute.internal:8042/node/containerlogs/container_1729270775885_0014_01_000001/livy\">Link</a></td><td>None</td><td>✔</td></tr></table>"
      ],
      "text/plain": [
       "<IPython.core.display.HTML object>"
      ]
     },
     "metadata": {},
     "output_type": "display_data"
    },
    {
     "data": {
      "application/vnd.jupyter.widget-view+json": {
       "model_id": "",
       "version_major": 2,
       "version_minor": 0
      },
      "text/plain": [
       "FloatProgress(value=0.0, bar_style='info', description='Progress:', layout=Layout(height='25px', width='50%'),…"
      ]
     },
     "metadata": {},
     "output_type": "display_data"
    },
    {
     "name": "stdout",
     "output_type": "stream",
     "text": [
      "SparkSession available as 'spark'.\n",
      "{\"namespace\": \"sagemaker-analytics\", \"cluster_id\": \"j-1OJGFWLF2O1O8\", \"error_message\": null, \"success\": true, \"service\": \"emr\", \"operation\": \"connect\"}\n"
     ]
    }
   ],
   "source": [
    "%load_ext sagemaker_studio_analytics_extension.magics\n",
    "%sm_analytics emr connect --verify-certificate False --cluster-id j-1OJGFWLF2O1O8 --auth-type None --language python  "
   ]
  },
  {
   "cell_type": "markdown",
   "id": "7cb621ee-347a-4557-b43b-47ba7741c59b",
   "metadata": {},
   "source": [
    "# Connection Requirement:\n",
    "- Start local instance with image SparkAnalytics 3.0 and Kernel SparkMagic Pyspark\n",
    "- Start one EMR cluster\n",
    "- Connect EMR cluster to the notebook instance"
   ]
  },
  {
   "cell_type": "markdown",
   "id": "6bc633d7-b127-4c25-a9ed-f7e49e23795d",
   "metadata": {
    "tags": []
   },
   "source": [
    "## 1. Reading Data from DataLake"
   ]
  },
  {
   "cell_type": "code",
   "execution_count": 3,
   "id": "b1bd6800-a613-40f5-a659-99f80843bde8",
   "metadata": {
    "tags": []
   },
   "outputs": [
    {
     "data": {
      "application/vnd.jupyter.widget-view+json": {
       "model_id": "",
       "version_major": 2,
       "version_minor": 0
      },
      "text/plain": [
       "FloatProgress(value=0.0, bar_style='info', description='Progress:', layout=Layout(height='25px', width='50%'),…"
      ]
     },
     "metadata": {},
     "output_type": "display_data"
    },
    {
     "name": "stdout",
     "output_type": "stream",
     "text": [
      "+--------------------+\n",
      "|           partition|\n",
      "+--------------------+\n",
      "|year=2020/month=1...|\n",
      "|year=2020/month=1...|\n",
      "|year=2020/month=1...|\n",
      "|year=2020/month=1...|\n",
      "|year=2020/month=2...|\n",
      "+--------------------+\n",
      "only showing top 5 rows"
     ]
    }
   ],
   "source": [
    "\n",
    "import sys\n",
    "\n",
    "from pyspark.sql import SparkSession\n",
    "from pyspark.sql import functions as F\n",
    "from pyspark.sql.types import *\n",
    "\n",
    "session_name = 'pltv_v2_gclid'\n",
    "database = 'ml_revenue_relevance_pltv_cln_local'\n",
    "table = 'pltv_v2_model_gclid_daily_cln'\n",
    "\n",
    "spark = (\n",
    "        SparkSession.builder.appName(session_name)\n",
    "        .config(\"hive.exec.dynamic.partition.mode\", \"nonstrict\")\n",
    "        .config(\"hive.exec.dynamic.partition\", \"true\")\n",
    "        .config(\"spark.sql.sources.partitionOverwriteMode\", \"dynamic\")\n",
    "        .enableHiveSupport()\n",
    "        .getOrCreate()\n",
    "    )\n",
    "pltv_part = spark.sql(\"\"\"show partitions ml_revenue_relevance_pltv_cln.pltv_v2_model_weekly_cln\"\"\")\n",
    "pltv_part.show(5)"
   ]
  },
  {
   "cell_type": "code",
   "execution_count": 9,
   "id": "7e560950-2d1b-49ba-8f31-2c233e8ebf95",
   "metadata": {
    "tags": []
   },
   "outputs": [
    {
     "name": "stdout",
     "output_type": "stream",
     "text": [
      "                           PRE prod_model/\n",
      "2022-11-04 23:12:15          0 \n",
      "2023-01-27 04:44:34      75043 pltv_features-temp.csv\n",
      "2023-09-07 19:32:04      78709 pltv_features.csv\n",
      "2023-09-07 19:31:55      78709 pltv_features2.csv\n"
     ]
    }
   ],
   "source": [
    "%%sh\n",
    "aws s3 ls s3://gd-revrelvnc-stage-pltv2/prod_doc/"
   ]
  },
  {
   "cell_type": "markdown",
   "id": "242d3974-b520-441f-9728-aa470c1e6144",
   "metadata": {},
   "source": [
    "## 2. Reading Data from S3"
   ]
  },
  {
   "cell_type": "code",
   "execution_count": 4,
   "id": "9689ca39-09c3-4a89-9309-66eb38eb3765",
   "metadata": {
    "tags": []
   },
   "outputs": [
    {
     "data": {
      "application/vnd.jupyter.widget-view+json": {
       "model_id": "",
       "version_major": 2,
       "version_minor": 0
      },
      "text/plain": [
       "FloatProgress(value=0.0, bar_style='info', description='Progress:', layout=Layout(height='25px', width='50%'),…"
      ]
     },
     "metadata": {},
     "output_type": "display_data"
    },
    {
     "name": "stdout",
     "output_type": "stream",
     "text": [
      "+---------+----------+--------+----------+------+------+\n",
      "|firstname|middlename|lastname|       dob|gender|salary|\n",
      "+---------+----------+--------+----------+------+------+\n",
      "|    James|          |   Smith|1991-04-01|     M|  3000|\n",
      "|  Michael|      Rose|        |2000-05-19|     M|  4000|\n",
      "|   Robert|          |Williams|1978-09-05|     M|  4000|\n",
      "|    Maria|      Anne|   Jones|1967-12-01|     F|  4000|\n",
      "|      Jen|      Mary|   Brown|1980-02-17|     F|    -1|\n",
      "+---------+----------+--------+----------+------+------+"
     ]
    }
   ],
   "source": [
    "data = [('James','','Smith','1991-04-01','M',3000), \n",
    "        ('Michael','Rose','','2000-05-19','M',4000),\n",
    "        ('Robert','','Williams','1978-09-05','M',4000),\n",
    "        ('Maria','Anne','Jones','1967-12-01','F',4000),\n",
    "        ('Jen','Mary','Brown','1980-02-17','F',-1)\n",
    "]\n",
    "\n",
    "columns = [\"firstname\",\"middlename\",\"lastname\",\"dob\",\"gender\",\"salary\"]\n",
    "df = spark.createDataFrame(data=data, schema = columns)\n",
    "df.createOrReplaceTempView('emp_view')\n",
    "df.show()"
   ]
  },
  {
   "cell_type": "code",
   "execution_count": 5,
   "id": "30d98b3b-0607-4bdf-95bb-f575544e049b",
   "metadata": {
    "tags": []
   },
   "outputs": [
    {
     "data": {
      "application/vnd.jupyter.widget-view+json": {
       "model_id": "",
       "version_major": 2,
       "version_minor": 0
      },
      "text/plain": [
       "FloatProgress(value=0.0, bar_style='info', description='Progress:', layout=Layout(height='25px', width='50%'),…"
      ]
     },
     "metadata": {},
     "output_type": "display_data"
    },
    {
     "name": "stderr",
     "output_type": "stream",
     "text": [
      "/opt/conda/lib/python3.11/site-packages/sparkmagic/utils/utils.py:44: UserWarning:\n",
      "\n",
      "Could not infer format, so each element will be parsed individually, falling back to `dateutil`. To ensure parsing is consistent and as-expected, please specify a format.\n",
      "\n",
      "/opt/conda/lib/python3.11/site-packages/sparkmagic/utils/utils.py:44: UserWarning:\n",
      "\n",
      "Could not infer format, so each element will be parsed individually, falling back to `dateutil`. To ensure parsing is consistent and as-expected, please specify a format.\n",
      "\n",
      "/opt/conda/lib/python3.11/site-packages/sparkmagic/utils/utils.py:44: UserWarning:\n",
      "\n",
      "Could not infer format, so each element will be parsed individually, falling back to `dateutil`. To ensure parsing is consistent and as-expected, please specify a format.\n",
      "\n",
      "/opt/conda/lib/python3.11/site-packages/sparkmagic/utils/utils.py:44: UserWarning:\n",
      "\n",
      "Could not infer format, so each element will be parsed individually, falling back to `dateutil`. To ensure parsing is consistent and as-expected, please specify a format.\n",
      "\n"
     ]
    },
    {
     "data": {
      "application/vnd.jupyter.widget-view+json": {
       "model_id": "b79ef90bf58040a98fb6d21cb5aaa8cf",
       "version_major": 2,
       "version_minor": 0
      },
      "text/plain": [
       "VBox(children=(HBox(children=(HTML(value='Type:'), Button(description='Table', layout=Layout(width='70px'), st…"
      ]
     },
     "metadata": {},
     "output_type": "display_data"
    },
    {
     "data": {
      "application/vnd.jupyter.widget-view+json": {
       "model_id": "b910f30d415144dba3c5fb27336da93a",
       "version_major": 2,
       "version_minor": 0
      },
      "text/plain": [
       "Output()"
      ]
     },
     "metadata": {},
     "output_type": "display_data"
    }
   ],
   "source": [
    "%%sql\n",
    "select * from emp_view"
   ]
  },
  {
   "cell_type": "code",
   "execution_count": 6,
   "id": "13deacde-0350-49f1-980a-bc0c6f214b4b",
   "metadata": {
    "tags": []
   },
   "outputs": [
    {
     "data": {
      "application/vnd.jupyter.widget-view+json": {
       "model_id": "",
       "version_major": 2,
       "version_minor": 0
      },
      "text/plain": [
       "FloatProgress(value=0.0, bar_style='info', description='Progress:', layout=Layout(height='25px', width='50%'),…"
      ]
     },
     "metadata": {},
     "output_type": "display_data"
    },
    {
     "name": "stdout",
     "output_type": "stream",
     "text": [
      "+---------+----------+------+------+-------------+-------------+\n",
      "|       id|if_shopper|sample|weight|is_visit_flag|is_order_flag|\n",
      "+---------+----------+------+------+-------------+-------------+\n",
      "|192959394|         1|     1|   1.0|            0|            0|\n",
      "|227325893|         1|     1|   1.0|            0|            0|\n",
      "|158368339|         1|     1|   1.0|            0|            0|\n",
      "|218681774|         1|     1|   1.0|            0|            0|\n",
      "|255488264|         1|     1|   1.0|            0|            0|\n",
      "|187798373|         1|     1|   1.0|            0|            0|\n",
      "|215552069|         1|     1|   1.0|            0|            0|\n",
      "|243202223|         1|     1|   1.0|            0|            0|\n",
      "|147111025|         1|     1|   1.0|            0|            0|\n",
      "|268373240|         1|     1|   1.0|            0|            0|\n",
      "+---------+----------+------+------+-------------+-------------+\n",
      "only showing top 10 rows"
     ]
    }
   ],
   "source": [
    "s3_path= \"s3://gd-revrelvnc-stage-pltv2/table/f2p_combine_features/customer_type=nru/local_date=2020-04-01/\"\n",
    "s3_stage = \"s3://gd-revrelvnc-stage-pltv2/table/f2p_combine_features/\"\n",
    "df = spark.read.parquet(s3_path)\n",
    "df.select(['id', 'if_shopper', 'sample', 'weight', 'is_visit_flag', 'is_order_flag']).show(10)"
   ]
  },
  {
   "cell_type": "code",
   "execution_count": 7,
   "id": "c048a96c-5668-4f0a-af26-29b39e2ef7f8",
   "metadata": {
    "tags": []
   },
   "outputs": [
    {
     "data": {
      "application/vnd.jupyter.widget-view+json": {
       "model_id": "",
       "version_major": 2,
       "version_minor": 0
      },
      "text/plain": [
       "FloatProgress(value=0.0, bar_style='info', description='Progress:', layout=Layout(height='25px', width='50%'),…"
      ]
     },
     "metadata": {},
     "output_type": "display_data"
    }
   ],
   "source": [
    "df.select(['id', 'if_shopper', 'sample', 'weight', 'is_visit_flag', 'is_order_flag']).write.mode('overwrite').parquet('s3://gd-revrelvnc-stage-pltv2/p2p_model/test3/')"
   ]
  },
  {
   "cell_type": "markdown",
   "id": "9f6f12f3-ba36-4606-b899-5f26d8dc7e59",
   "metadata": {},
   "source": [
    "## 3. Connect S3 with boto3"
   ]
  },
  {
   "cell_type": "code",
   "execution_count": 8,
   "id": "ab7688ac-20d6-4fa7-8898-342d869d0205",
   "metadata": {
    "tags": []
   },
   "outputs": [
    {
     "data": {
      "application/vnd.jupyter.widget-view+json": {
       "model_id": "",
       "version_major": 2,
       "version_minor": 0
      },
      "text/plain": [
       "FloatProgress(value=0.0, bar_style='info', description='Progress:', layout=Layout(height='25px', width='50%'),…"
      ]
     },
     "metadata": {},
     "output_type": "display_data"
    },
    {
     "name": "stdout",
     "output_type": "stream",
     "text": [
      "pltv_model/pltv_adjust_model_v6/config/train_config/2022-09-01/normalizer.pkl\n",
      "pltv_model/pltv_adjust_model_v6/config/train_config/2022-09-01/train_config.yaml\n",
      "'2022-09-01'\n",
      "/usr/local/lib/python3.7/site-packages/boto3/compat.py:82: PythonDeprecationWarning: Boto3 will no longer support Python 3.7 starting December 13, 2023. To continue receiving service updates, bug fixes, and security updates please upgrade to Python 3.8 or later. More information can be found here: https://aws.amazon.com/blogs/developer/python-support-policy-updates-for-aws-sdks-and-tools/\n",
      "  warnings.warn(warning, PythonDeprecationWarning)"
     ]
    }
   ],
   "source": [
    "import boto3\n",
    "import re\n",
    "import numpy as np\n",
    "import os\n",
    "\n",
    "def get_config_file_name(s3_path, end_date=None):\n",
    "    s3 = boto3.resource('s3', region_name = 'us-west-2') \n",
    "    glue_bucket = s3.Bucket(s3_path.replace(\"s3://\",\"\").split(\"/\")[0])\n",
    "    folder_path = s3_path.split(\"/\", 3)[3]\n",
    "\n",
    "    objects = glue_bucket.objects.filter(Prefix=folder_path).all()\n",
    "    dates_list = []\n",
    "    for my_bucket_object in objects:\n",
    "        print(my_bucket_object.key)\n",
    "        dates_list.append(re.search(r\"\\d{4}-\\d{2}-\\d{2}\", my_bucket_object.key).group(0))\n",
    "\n",
    "    created_dates_list = [str(d) for d in np.unique(np.array(dates_list))]\n",
    "    if end_date is not None:\n",
    "        created_dates_list = [file for file in created_dates_list if file <= end_date]\n",
    "        created_dates_list.sort()\n",
    "    return created_dates_list[-1]\n",
    "\n",
    "get_config_file_name('s3://gd-revrelvnc-stage-pltv2/pltv_model/pltv_adjust_model_v6/config/train_config/')"
   ]
  },
  {
   "cell_type": "markdown",
   "id": "83803141-5880-404c-9744-5fc036a829d6",
   "metadata": {
    "tags": []
   },
   "source": [
    "## Saving data to connected EMR local"
   ]
  },
  {
   "cell_type": "code",
   "execution_count": 10,
   "id": "17b12b92-70f3-439e-aaff-b06f57b75840",
   "metadata": {
    "tags": []
   },
   "outputs": [
    {
     "data": {
      "application/vnd.jupyter.widget-view+json": {
       "model_id": "",
       "version_major": 2,
       "version_minor": 0
      },
      "text/plain": [
       "FloatProgress(value=0.0, bar_style='info', description='Progress:', layout=Layout(height='25px', width='50%'),…"
      ]
     },
     "metadata": {},
     "output_type": "display_data"
    }
   ],
   "source": [
    "import pandas as pd\n",
    "\n",
    "# Create a sample dataframe\n",
    "Biodata = {'Name': ['John', 'Emily', 'Mike', 'Lisa'],\n",
    "        'Age': [28, 23, 35, 31],\n",
    "        'Gender': ['M', 'F', 'M', 'F']\n",
    "        }\n",
    "df = pd.DataFrame(Biodata)\n",
    "\n",
    "# Save the dataframe to a CSV file\n",
    "df.to_csv('./Biodata.csv', index=False)\n",
    "#df.to_csv('/hodoop/opt/Biodata.csv', index=False)"
   ]
  },
  {
   "cell_type": "code",
   "execution_count": 11,
   "id": "fd19edf4-735e-4bed-84ec-01c58f4241e7",
   "metadata": {
    "tags": []
   },
   "outputs": [
    {
     "data": {
      "application/vnd.jupyter.widget-view+json": {
       "model_id": "",
       "version_major": 2,
       "version_minor": 0
      },
      "text/plain": [
       "FloatProgress(value=0.0, bar_style='info', description='Progress:', layout=Layout(height='25px', width='50%'),…"
      ]
     },
     "metadata": {},
     "output_type": "display_data"
    }
   ],
   "source": [
    "import yaml\n",
    "\n",
    "data = dict(\n",
    "    A = 'a',\n",
    "    B = dict(\n",
    "        C = 'c',\n",
    "        D = 'd',\n",
    "        E = 'e',\n",
    "    )\n",
    ")\n",
    "\n",
    "with open('./data.yml', 'w') as outfile:\n",
    "    yaml.dump(data, outfile, default_flow_style=False)"
   ]
  },
  {
   "cell_type": "code",
   "execution_count": 12,
   "id": "de121019-a788-47a1-8409-8ed225cccf82",
   "metadata": {
    "tags": []
   },
   "outputs": [
    {
     "data": {
      "application/vnd.jupyter.widget-view+json": {
       "model_id": "",
       "version_major": 2,
       "version_minor": 0
      },
      "text/plain": [
       "FloatProgress(value=0.0, bar_style='info', description='Progress:', layout=Layout(height='25px', width='50%'),…"
      ]
     },
     "metadata": {},
     "output_type": "display_data"
    },
    {
     "name": "stdout",
     "output_type": "stream",
     "text": [
      "{'A': 'a', 'B': {'C': 'c', 'D': 'd', 'E': 'e'}}"
     ]
    }
   ],
   "source": [
    "import yaml\n",
    "with open('data.yml', 'r') as file:\n",
    "    prime_service = yaml.safe_load(file)\n",
    "prime_service"
   ]
  },
  {
   "cell_type": "code",
   "execution_count": 26,
   "id": "4fc8aca7-7779-4abc-84b6-9913251e1f93",
   "metadata": {
    "tags": []
   },
   "outputs": [
    {
     "data": {
      "application/vnd.jupyter.widget-view+json": {
       "model_id": "",
       "version_major": 2,
       "version_minor": 0
      },
      "text/plain": [
       "FloatProgress(value=0.0, bar_style='info', description='Progress:', layout=Layout(height='25px', width='50%'),…"
      ]
     },
     "metadata": {},
     "output_type": "display_data"
    },
    {
     "name": "stdout",
     "output_type": "stream",
     "text": [
      "Biodata.csv\n",
      "data.yml"
     ]
    }
   ],
   "source": [
    "import subprocess\n",
    "\n",
    "# Run the command and capture the output\n",
    "output = subprocess.check_output(\"ls\", shell=True)\n",
    "print(output.decode(\"utf-8\"))"
   ]
  },
  {
   "cell_type": "code",
   "execution_count": 31,
   "id": "ca9249aa-9d85-48fd-b861-09a9b752bc65",
   "metadata": {
    "tags": []
   },
   "outputs": [
    {
     "data": {
      "application/vnd.jupyter.widget-view+json": {
       "model_id": "",
       "version_major": 2,
       "version_minor": 0
      },
      "text/plain": [
       "FloatProgress(value=0.0, bar_style='info', description='Progress:', layout=Layout(height='25px', width='50%'),…"
      ]
     },
     "metadata": {},
     "output_type": "display_data"
    }
   ],
   "source": [
    "import boto3\n",
    "from email import encoders\n",
    "from email.mime.base import MIMEBase\n",
    "from email.mime.application import MIMEApplication\n",
    "from email.mime.multipart import MIMEMultipart\n",
    "from email.mime.text import MIMEText\n",
    "\n",
    "\n",
    "def send_email(\n",
    "    to_addr,\n",
    "    from_addr=\"pltv_report@rnr.gdcorp.tools\",\n",
    "    subject=\"PLTV Report\",\n",
    "    body=\"\",\n",
    "    html_body_flag=False,\n",
    "    file_list=None,\n",
    "):\n",
    "    \"\"\"Function to send email using BOTO SES\n",
    "\n",
    "    Args:\n",
    "        to_addr (list): To email address\n",
    "        from_addr (str): From email address\n",
    "        subject (str): Subject line for the email\n",
    "        body (str): Email body\n",
    "        html_body_flag (boolean): indicates if the body is html string or plain text\n",
    "        file_list (list): path to List of email attachments\n",
    "\n",
    "    Returns:\n",
    "        str: Boto SES request ID\n",
    "    \"\"\"\n",
    "    # Create message container\n",
    "    msg = MIMEMultipart(\"alternative\")\n",
    "    msg[\"subject\"] = subject\n",
    "    msg[\"To\"] = to_addr\n",
    "    msg[\"From\"] = from_addr\n",
    "    msg.preamble = \"\"\"\n",
    "        Your mail reader does not support the report format.\n",
    "    \"\"\"\n",
    "\n",
    "    # Attach Email Body\n",
    "    if html_body_flag:\n",
    "        body = MIMEText(body, \"html\")\n",
    "    else:\n",
    "        body = MIMEText(body)\n",
    "    msg.attach(body)\n",
    "\n",
    "    # Embed html cid\n",
    "    if file_list:\n",
    "        for filename in file_list:\n",
    "            with open(filename, \"rb\") as attachment:\n",
    "                part = MIMEApplication(attachment.read())\n",
    "                part.add_header(\n",
    "                    \"Content-Disposition\", \"attachment\", filename=filename\n",
    "                )\n",
    "                msg.attach(part)\n",
    "            attachment.close()\n",
    "    # Convert message to string and send\n",
    "    ses_client = boto3.client(\"ses\", region_name=\"us-west-2\")\n",
    "    response = ses_client.send_raw_email(\n",
    "        Source=msg[\"From\"],\n",
    "        Destinations=[msg[\"To\"]],\n",
    "        RawMessage={\"Data\": msg.as_string()}\n",
    "    )\n",
    "    print(response)\n"
   ]
  },
  {
   "cell_type": "code",
   "execution_count": 32,
   "id": "3dc4a582-0128-4741-ab33-d868c3307307",
   "metadata": {
    "tags": []
   },
   "outputs": [
    {
     "name": "stdout",
     "output_type": "stream",
     "text": [
      "                           PRE task=infer/\n"
     ]
    }
   ],
   "source": [
    "%%sh\n",
    "aws s3 ls s3://gd-revrelvnc-stage-pltv2/table/f2p_combine_features/customer_type=nru/local_date=2020-01-01/"
   ]
  },
  {
   "cell_type": "code",
   "execution_count": 35,
   "id": "a2f248c4-a046-4e52-8b9e-b25dae857c7d",
   "metadata": {
    "tags": []
   },
   "outputs": [
    {
     "data": {
      "application/vnd.jupyter.widget-view+json": {
       "model_id": "",
       "version_major": 2,
       "version_minor": 0
      },
      "text/plain": [
       "FloatProgress(value=0.0, bar_style='info', description='Progress:', layout=Layout(height='25px', width='50%'),…"
      ]
     },
     "metadata": {},
     "output_type": "display_data"
    },
    {
     "name": "stdout",
     "output_type": "stream",
     "text": [
      "  firstname middlename  lastname         dob gender  salary\n",
      "0     James                Smith  1991-04-01      M    3000\n",
      "1   Michael       Rose            2000-05-19      M    4000\n",
      "2    Robert             Williams  1978-09-05      M    4000\n",
      "3     Maria       Anne     Jones  1967-12-01      F    4000\n",
      "4       Jen       Mary     Brown  1980-02-17      F      -1"
     ]
    }
   ],
   "source": [
    "data = [('James','','Smith','1991-04-01','M',3000), \n",
    "        ('Michael','Rose','','2000-05-19','M',4000),\n",
    "        ('Robert','','Williams','1978-09-05','M',4000),\n",
    "        ('Maria','Anne','Jones','1967-12-01','F',4000),\n",
    "        ('Jen','Mary','Brown','1980-02-17','F',-1)\n",
    "]\n",
    "\n",
    "columns = [\"firstname\",\"middlename\",\"lastname\",\"dob\",\"gender\",\"salary\"]\n",
    "df = spark.createDataFrame(data=data, schema = columns).toPandas()\n",
    "df"
   ]
  },
  {
   "cell_type": "code",
   "execution_count": 37,
   "id": "7b3a4190-333e-457b-8934-389e8f82be22",
   "metadata": {
    "tags": []
   },
   "outputs": [
    {
     "data": {
      "application/vnd.jupyter.widget-view+json": {
       "model_id": "",
       "version_major": 2,
       "version_minor": 0
      },
      "text/plain": [
       "FloatProgress(value=0.0, bar_style='info', description='Progress:', layout=Layout(height='25px', width='50%'),…"
      ]
     },
     "metadata": {},
     "output_type": "display_data"
    },
    {
     "name": "stdout",
     "output_type": "stream",
     "text": [
      "{'MessageId': '01010192a0f2b62e-41083755-76c3-473d-9249-4e723f012788-000000', 'ResponseMetadata': {'RequestId': '26638938-2b7e-4fa7-8e42-713b3b26693d', 'HTTPStatusCode': 200, 'HTTPHeaders': {'date': 'Fri, 18 Oct 2024 18:45:13 GMT', 'content-type': 'text/xml', 'content-length': '338', 'connection': 'keep-alive', 'x-amzn-requestid': '26638938-2b7e-4fa7-8e42-713b3b26693d'}, 'RetryAttempts': 0}}\n",
      "/usr/local/lib/python3.7/site-packages/boto3/compat.py:82: PythonDeprecationWarning: Boto3 will no longer support Python 3.7 starting December 13, 2023. To continue receiving service updates, bug fixes, and security updates please upgrade to Python 3.8 or later. More information can be found here: https://aws.amazon.com/blogs/developer/python-support-policy-updates-for-aws-sdks-and-tools/\n",
      "  warnings.warn(warning, PythonDeprecationWarning)"
     ]
    }
   ],
   "source": [
    "df_html = df.to_html()\n",
    "subject = \"pltv_report\"\n",
    "from_addr = \"test_report@rnr.gdcorp.tools\"\n",
    "to_addr = \"jli1@godaddy.com\" \n",
    "file_list = []\n",
    "send_email(to_addr, from_addr, subject, body=df_html, html_body_flag=True, file_list=file_list)"
   ]
  },
  {
   "cell_type": "code",
   "execution_count": 40,
   "id": "7b9f31a8-910e-47d4-b9c2-f3d118622925",
   "metadata": {
    "tags": []
   },
   "outputs": [
    {
     "name": "stdout",
     "output_type": "stream",
     "text": [
      "2024-05-24 17:16:51 cdk-cldinfra-assets-128519002737-us-west-2\n",
      "2024-10-14 19:09:10 gd-access-revrelvnc-stage-logs-us-west-2\n",
      "2024-10-14 19:06:18 gd-infra-logging-128519002737-us-west-2\n",
      "2024-09-09 20:19:07 gd-revrelvnc-stage-applications\n",
      "2024-09-09 20:19:07 gd-revrelvnc-stage-athena-results\n",
      "2024-09-09 22:55:08 gd-revrelvnc-stage-backup\n",
      "2022-05-18 16:23:05 gd-revrelvnc-stage-cdk-assets\n",
      "2024-09-09 22:44:26 gd-revrelvnc-stage-cross-sell\n",
      "2024-09-09 20:18:54 gd-revrelvnc-stage-data-lake\n",
      "2024-09-21 04:50:50 gd-revrelvnc-stage-dnai-social-post-api\n",
      "2024-10-14 19:09:10 gd-revrelvnc-stage-logging-us-west-2\n",
      "2024-06-26 15:58:41 gd-revrelvnc-stage-mlflow\n",
      "2024-09-09 21:40:22 gd-revrelvnc-stage-mmm-data\n",
      "2023-12-12 20:23:58 gd-revrelvnc-stage-phd-events-us-west-2\n",
      "2024-09-09 20:25:05 gd-revrelvnc-stage-pltv2\n",
      "2024-09-09 21:33:06 gd-revrelvnc-stage-pricing\n",
      "2023-10-18 21:46:09 gd-revrelvnc-stage-sem-bidding\n",
      "2024-09-09 20:19:08 gd-revrelvnc-stage-success\n",
      "2024-10-14 19:06:13 gd-server-access-revrelvnc-stage-us-west-2\n",
      "2023-04-12 19:37:48 metadata-revrelvnc-stage-prod\n",
      "2023-10-03 21:29:24 sagemaker-automated-execution-128519002737-us-west-2\n",
      "2024-01-19 23:55:46 sagemaker-us-west-2-128519002737\n",
      "2024-10-14 19:09:11 sns-revrelvnc-stage-logs-us-west-2\n"
     ]
    }
   ],
   "source": [
    "%%sh\n",
    "aws s3 ls"
   ]
  },
  {
   "cell_type": "code",
   "execution_count": 41,
   "id": "ac29debd-d575-4309-ba36-e912ff00da58",
   "metadata": {
    "tags": []
   },
   "outputs": [
    {
     "data": {
      "application/vnd.jupyter.widget-view+json": {
       "model_id": "",
       "version_major": 2,
       "version_minor": 0
      },
      "text/plain": [
       "FloatProgress(value=0.0, bar_style='info', description='Progress:', layout=Layout(height='25px', width='50%'),…"
      ]
     },
     "metadata": {},
     "output_type": "display_data"
    },
    {
     "name": "stderr",
     "output_type": "stream",
     "text": [
      "An error was encountered:\n",
      "[Errno 2] No such file or directory: '/home/hadoop/opt/p2p_model/config/train_config.yaml'\n",
      "Traceback (most recent call last):\n",
      "FileNotFoundError: [Errno 2] No such file or directory: '/home/hadoop/opt/p2p_model/config/train_config.yaml'\n",
      "\n"
     ]
    }
   ],
   "source": [
    "# Read YAML file\n",
    "with open(\"/home/hadoop/opt/p2p_model/config/train_config.yaml\", 'r') as stream:\n",
    "    data_loaded = yaml.safe_load(stream)"
   ]
  },
  {
   "cell_type": "code",
   "execution_count": 27,
   "id": "ee2ddda0-de9d-4e1a-8983-f1718a4278e6",
   "metadata": {
    "tags": []
   },
   "outputs": [
    {
     "data": {
      "application/vnd.jupyter.widget-view+json": {
       "model_id": "",
       "version_major": 2,
       "version_minor": 0
      },
      "text/plain": [
       "FloatProgress(value=0.0, bar_style='info', description='Progress:', layout=Layout(height='25px', width='50%'),…"
      ]
     },
     "metadata": {},
     "output_type": "display_data"
    },
    {
     "name": "stdout",
     "output_type": "stream",
     "text": [
      "{'CategoryFeatureCol': ['hvc_customer_tier', 'shopper_status', 'first_register_months'], 'IdCol': 'id', 'NumericalFeatureCol': ['l3q_product_group_domains_qty', 'lm_product_group_presence_and_commerce_qty', 'ly_product_group_business_applications_qty', 'l2q_product_group_presence_and_commerce_qty', 'rp_product_group_hosting', 'lm_product_unit_qty', 'l3q_product_group_hosting_qty', 'domain_portfolio_qty', 'lm_pattern_manage_mya_cnt', 'l3q_product_unit_qty', 'ly_product_unit_qty', 'lw_product_total_visit', 'recent_visit', 'l2q_product_category_other_hosting_qty', 'rp_product_group_presence_and_commerce', 'nq_product_category_presence_qty', 'rv_pattern_manage_website', 'lm_product_total_visit', 'lm_product_category_presence_qty', 'recent_dwelling', 'rp_product_group_domains', 'ly_product_group_hosting_qty', 'l3q_product_group_presence_and_commerce_qty', 'next_month_potential_gcr_usd_amt', 'rv_visit_name_registration', 'lq_product_category_presence_qty', 'rp_product_category_domain_registration', 'lw_product_category_presence_qty', 'ly_product_group_presence_and_commerce_qty', 'rv_visit_promo_impr', 'lw_product_unit_qty', 'l2q_product_group_hosting_qty', 'active_product_cnt', 'l3q_product_category_domain_registration_qty', 'nq_product_unit_qty', 'active_product_auto_renew_cnt', 'lq_product_group_presence_and_commerce_qty', 'l2q_product_unit_qty', 'ly_product_category_presence_qty', 'rp_product_category_presence', 'max_email_open_mst_days', 'lw_product_group_presence_and_commerce_qty', 'prior_month_email_sent_qty', 'rv_visit_prom_click', 'lq_product_unit_qty', 'n4q_product_unit_qty', 'n8q_product_unit_qty', 'n5q_product_unit_qty', 'n3q_product_unit_qty', 'n2q_product_unit_qty', 'n6q_product_unit_qty', 'n7q_product_unit_qty', 'max_email_click_mst_days', 'add_subscribe_date_min', 'ols_created', 'add_reviews_date_min', 'add_rss_date_min', 'add_popup_date_min', 'add_terms_date_min', 'add_privacy_date_min', 'add_footer_date_min', 'add_about_date_min', 'add_social_date_min'], 'ProductCol': 'product', 'TargetCol': ['month_1_p2p', 'month_2_p2p'], 'WeightCol': 'weight', 'customer_type': ['nru'], 'default_max_value': 61, 'featurized_path': 's3://{s3_bucket}/{model}/{version}/feature_data/{mode}/{run_date}/', 'fill_category_outlier_by_frequence': False, 'fill_nan_dict': {'active_product_auto_renew_cnt': 0.9183414035641856, 'active_product_cnt': 0.9462079417700464, 'add_about_date_min': 11.57154172177193, 'add_footer_date_min': 11.587563860254368, 'add_popup_date_min': 8.820001036990453, 'add_privacy_date_min': 10.002458981429672, 'add_reviews_date_min': 14.057856867780158, 'add_rss_date_min': 11.612329561571817, 'add_social_date_min': 11.199462301307252, 'add_subscribe_date_min': 10.40978957949281, 'add_terms_date_min': 13.920120236734048, 'domain_portfolio_qty': 0.0008708293189331493, 'first_register_months': '-1', 'hvc_customer_tier': '-1', 'l2q_product_category_other_hosting_qty': 0, 'l2q_product_group_hosting_qty': 0, 'l2q_product_group_presence_and_commerce_qty': 0, 'l2q_product_unit_qty': 0, 'l3q_product_category_domain_registration_qty': 0, 'l3q_product_group_domains_qty': 0, 'l3q_product_group_hosting_qty': 0, 'l3q_product_group_presence_and_commerce_qty': 0, 'l3q_product_unit_qty': 0, 'lm_pattern_manage_mya_cnt': 0, 'lm_product_category_presence_qty': 0, 'lm_product_group_presence_and_commerce_qty': 0, 'lm_product_total_visit': 0, 'lm_product_unit_qty': 0, 'lq_product_category_presence_qty': 0, 'lq_product_group_presence_and_commerce_qty': 0, 'lq_product_unit_qty': 0, 'lw_product_category_presence_qty': 0, 'lw_product_group_presence_and_commerce_qty': 0, 'lw_product_total_visit': 0, 'lw_product_unit_qty': 0, 'ly_product_category_presence_qty': 0, 'ly_product_group_business_applications_qty': 0, 'ly_product_group_hosting_qty': 0, 'ly_product_group_presence_and_commerce_qty': 0, 'ly_product_unit_qty': 0, 'max_email_click_mst_days': 138.12025951136502, 'max_email_open_mst_days': 107.93892806465107, 'n2q_product_unit_qty': 0, 'n3q_product_unit_qty': 0, 'n4q_product_unit_qty': 0, 'n5q_product_unit_qty': 0, 'n6q_product_unit_qty': 0, 'n7q_product_unit_qty': 0, 'n8q_product_unit_qty': 0, 'next_month_potential_gcr_usd_amt': 2.1881626152420974, 'nq_product_category_presence_qty': 0, 'nq_product_unit_qty': 0, 'ols_created': 11.75453002980476, 'prior_month_email_sent_qty': 0.08202949791284071, 'recent_dwelling': 0, 'recent_visit': 31.0, 'rp_product_category_domain_registration': 366.0, 'rp_product_category_presence': 366.0, 'rp_product_group_domains': 366.0, 'rp_product_group_hosting': 366.0, 'rp_product_group_presence_and_commerce': 366.0, 'rv_pattern_manage_website': 31.0, 'rv_visit_name_registration': 31.0, 'rv_visit_prom_click': 31.0, 'rv_visit_promo_impr': 31.0, 'shopper_status': '-1'}, 'filter_by_register_date_period': 0, 'infer_raw_data_partition': {'data_sampling': 0, 'load_data_task_partition': 'infer', 'local_date': ['2022-06-01']}, 'local_path': '/home/ec2-user/SageMaker/pLTV-v2/local_path_p2p_dev_wam_feat_imp_v2', 'one_hot_encoding': False, 'product_dict': {'first_register_months': {2: 0, 3: 1, 1: 2, 0: 3, 4: 4, 5: 5, 6: 6, 7: 7, 8: 8, 9: 9, 10: 10, 11: 11, 12: 12, '-1': 13}, 'hvc_customer_tier': {'-1': 2, 'NO_TIER': 0, 'Not Evaluated': 1, 'SILVER_TIER': 3}, 'shopper_status': {'-1': 3, 'Active': 2, 'Lapsed Registered User': 1, 'Registered User': 0}}, 'run_date': '2022-07-01', 's3_bucket': 'gd-revrelvnc-stage-pltv2', 's3_config_path': 's3://{s3_bucket}/{model}/{version}/config/{mode}_config/{run_date}/', 'scaler_method': 'normalizer', 'score_file_name': 'p2p_score_data', 'score_raw_data_partition': {'data_sampling': 0, 'load_data_task_partition': 'train', 'local_date': ['2022-07-01', '2022-07-15', '2022-07-20']}, 'split_by_date_flag': True, 'table_path': 's3://{s3_bucket}/table/pltv2_combine_features/', 'test_file_name': 'p2p_test_data', 'test_size': 0.15, 'test_version': False, 'train_data_frac': 1, 'train_file_name': 'p2p_train_data', 'train_raw_data_partition': {'data_sampling': 0, 'load_data_task_partition': 'train', 'local_date': ['2022-05-01', '2022-04-01', '2022-04-15', '2022-03-15']}, 'version': 'p2p_dev_wam_feat_imp_v2'}"
     ]
    }
   ],
   "source": [
    "data_loaded"
   ]
  },
  {
   "cell_type": "markdown",
   "id": "18da1a9e-4034-404b-a249-697ba97c968a",
   "metadata": {
    "tags": []
   },
   "source": [
    "## 4. test send to spark"
   ]
  },
  {
   "cell_type": "code",
   "execution_count": 43,
   "id": "48692df9-788f-44cb-a440-da185996e766",
   "metadata": {
    "tags": []
   },
   "outputs": [
    {
     "data": {
      "text/html": [
       "\n",
       "<table>\n",
       "  <tr>\n",
       "    <th>Magic</th>\n",
       "    <th>Example</th>\n",
       "    <th>Explanation</th>\n",
       "  </tr>\n",
       "  <tr>\n",
       "    <td>info</td>\n",
       "    <td>%%info</td>\n",
       "    <td>Outputs session information for the current Livy endpoint.</td>\n",
       "  </tr>\n",
       "  <tr>\n",
       "    <td>cleanup</td>\n",
       "    <td>%%cleanup -f</td>\n",
       "    <td>Deletes all sessions for the current Livy endpoint, including this notebook's session. The force flag is mandatory.</td>\n",
       "  </tr>\n",
       "  <tr>\n",
       "    <td>delete</td>\n",
       "    <td>%%delete -f -s 0</td>\n",
       "    <td>Deletes a session by number for the current Livy endpoint. Cannot delete this kernel's session.</td>\n",
       "  </tr>\n",
       "  <tr>\n",
       "    <td>logs</td>\n",
       "    <td>%%logs</td>\n",
       "    <td>Outputs the current session's Livy logs.</td>\n",
       "  </tr>\n",
       "  <tr>\n",
       "    <td>configure</td>\n",
       "    <td>%%configure -f<br/>{\"executorMemory\": \"1000M\", \"executorCores\": 4}</td>\n",
       "    <td>Configure the session creation parameters. The force flag is mandatory if a session has already been\n",
       "    created and the session will be dropped and recreated.<br/>Look at <a href=\"https://github.com/cloudera/livy#request-body\">\n",
       "    Livy's POST /sessions Request Body</a> for a list of valid parameters. Parameters must be passed in as a JSON string.</td>\n",
       "  </tr>\n",
       "  <tr>\n",
       "    <td>spark</td>\n",
       "    <td>%%spark -o df<br/>df = spark.read.parquet('...</td>\n",
       "    <td>Executes spark commands.\n",
       "    Parameters:\n",
       "      <ul>\n",
       "        <li>-o VAR_NAME: The Spark dataframe of name VAR_NAME will be available in the %%local Python context as a\n",
       "          <a href=\"http://pandas.pydata.org/\">Pandas</a> dataframe with the same name.</li>\n",
       "        <li>-m METHOD: Sample method, either <tt>take</tt> or <tt>sample</tt>.</li>\n",
       "        <li>-n MAXROWS: The maximum number of rows of a dataframe that will be pulled from Livy to Jupyter.\n",
       "            If this number is negative, then the number of rows will be unlimited.</li>\n",
       "        <li>-r FRACTION: Fraction used for sampling.</li>\n",
       "      </ul>\n",
       "    </td>\n",
       "  </tr>\n",
       "  <tr>\n",
       "    <td>sql</td>\n",
       "    <td>%%sql -o tables -q<br/>SHOW TABLES</td>\n",
       "    <td>Executes a SQL query against the variable sqlContext (Spark v1.x) or spark (Spark v2.x).\n",
       "    Parameters:\n",
       "      <ul>\n",
       "        <li>-o VAR_NAME: The result of the SQL query will be available in the %%local Python context as a\n",
       "          <a href=\"http://pandas.pydata.org/\">Pandas</a> dataframe.</li>\n",
       "        <li>-q: The magic will return None instead of the dataframe (no visualization).</li>\n",
       "        <li>-m, -n, -r are the same as the %%spark parameters above.</li>\n",
       "      </ul>\n",
       "    </td>\n",
       "  </tr>\n",
       "  <tr>\n",
       "    <td>local</td>\n",
       "    <td>%%local<br/>a = 1</td>\n",
       "    <td>All the code in subsequent lines will be executed locally. Code must be valid Python code.</td>\n",
       "  </tr>\n",
       "  <tr>\n",
       "    <td>send_to_spark</td>\n",
       "    <td>%%send_to_spark -i variable -t str -n var</td>\n",
       "    <td>Sends a variable from local output to spark cluster.\n",
       "    <br/>\n",
       "    Parameters:\n",
       "      <ul>\n",
       "        <li>-i VAR_NAME: Local Pandas DataFrame(or String) of name VAR_NAME will be available in the %%spark context as a \n",
       "          Spark dataframe(or String) with the same name.</li>\n",
       "        <li>-t TYPE: Specifies the type of variable passed as -i. Available options are:\n",
       "         `str` for string and `df` for Pandas DataFrame. Optional, defaults to `str`.</li>\n",
       "        <li>-n NAME: Custom name of variable passed as -i. Optional, defaults to -i variable name.</li>\n",
       "        <li>-m MAXROWS: Maximum amount of Pandas rows that will be sent to Spark. Defaults to 2500.</li>\n",
       "      </ul>\n",
       "    </td>\n",
       "  </tr>\n",
       "  <tr>\n",
       "    <td>pretty</td>\n",
       "    <td>%%pretty</td>\n",
       "    <td>If the cell output is a dataframe, like <code>df.show()</code>, then it will pretty print the dataframe as an HTML table</td>\n",
       "  </tr>\n",
       "</table>\n"
      ],
      "text/plain": [
       "<IPython.core.display.HTML object>"
      ]
     },
     "metadata": {},
     "output_type": "display_data"
    }
   ],
   "source": [
    "%%help"
   ]
  },
  {
   "cell_type": "code",
   "execution_count": 44,
   "id": "84fe4e38-e511-451e-bf26-364fb746f158",
   "metadata": {
    "tags": []
   },
   "outputs": [],
   "source": [
    "%%local\n",
    "local_var = \"This variable exists on Studio Notebook kernel\""
   ]
  },
  {
   "cell_type": "code",
   "execution_count": 45,
   "id": "84f3d57b-560d-48fe-acb7-1b59fe6fdbd4",
   "metadata": {
    "tags": []
   },
   "outputs": [
    {
     "data": {
      "text/plain": [
       "'This variable exists on Studio Notebook kernel'"
      ]
     },
     "execution_count": 45,
     "metadata": {},
     "output_type": "execute_result"
    }
   ],
   "source": [
    "%%local\n",
    "local_var"
   ]
  },
  {
   "cell_type": "code",
   "execution_count": 46,
   "id": "9b7f06c0-c3b6-4f0e-a260-fe0f014526d5",
   "metadata": {
    "tags": []
   },
   "outputs": [
    {
     "name": "stdout",
     "output_type": "stream",
     "text": [
      "2.demo_emr.ipynb     redshift.ipynb                        summary_demo.ipynb\n",
      "Pyspark_local.ipynb  redshift_nc.sql\n",
      "athena_v2_nc.sql     summary_demo-studio-create-emr.ipynb\n"
     ]
    }
   ],
   "source": [
    "%%local\n",
    "ls"
   ]
  },
  {
   "cell_type": "code",
   "execution_count": 47,
   "id": "109a17ab-173f-45e0-bc61-c1fbbd2b86b0",
   "metadata": {
    "tags": []
   },
   "outputs": [
    {
     "data": {
      "application/vnd.jupyter.widget-view+json": {
       "model_id": "",
       "version_major": 2,
       "version_minor": 0
      },
      "text/plain": [
       "FloatProgress(value=0.0, bar_style='info', description='Progress:', layout=Layout(height='25px', width='50%'),…"
      ]
     },
     "metadata": {},
     "output_type": "display_data"
    },
    {
     "name": "stdout",
     "output_type": "stream",
     "text": [
      "Successfully passed 'local_var' as 'var_on_cluster' to Spark kernel"
     ]
    }
   ],
   "source": [
    "%%send_to_spark -i local_var  -t str -n var_on_cluster"
   ]
  },
  {
   "cell_type": "code",
   "execution_count": 48,
   "id": "8f93bff3-2bf1-468c-8aeb-05d63783bea8",
   "metadata": {
    "tags": []
   },
   "outputs": [
    {
     "data": {
      "application/vnd.jupyter.widget-view+json": {
       "model_id": "",
       "version_major": 2,
       "version_minor": 0
      },
      "text/plain": [
       "FloatProgress(value=0.0, bar_style='info', description='Progress:', layout=Layout(height='25px', width='50%'),…"
      ]
     },
     "metadata": {},
     "output_type": "display_data"
    },
    {
     "name": "stdout",
     "output_type": "stream",
     "text": [
      "'This variable exists on Studio Notebook kernel'"
     ]
    }
   ],
   "source": [
    "var_on_cluster"
   ]
  },
  {
   "cell_type": "code",
   "execution_count": null,
   "id": "f373eeda-2b76-4be1-b8bb-4d253b13d027",
   "metadata": {},
   "outputs": [],
   "source": []
  }
 ],
 "metadata": {
  "availableInstances": [
   {
    "_defaultOrder": 0,
    "_isFastLaunch": true,
    "category": "General purpose",
    "gpuNum": 0,
    "hideHardwareSpecs": false,
    "memoryGiB": 4,
    "name": "ml.t3.medium",
    "vcpuNum": 2
   },
   {
    "_defaultOrder": 1,
    "_isFastLaunch": false,
    "category": "General purpose",
    "gpuNum": 0,
    "hideHardwareSpecs": false,
    "memoryGiB": 8,
    "name": "ml.t3.large",
    "vcpuNum": 2
   },
   {
    "_defaultOrder": 2,
    "_isFastLaunch": false,
    "category": "General purpose",
    "gpuNum": 0,
    "hideHardwareSpecs": false,
    "memoryGiB": 16,
    "name": "ml.t3.xlarge",
    "vcpuNum": 4
   },
   {
    "_defaultOrder": 3,
    "_isFastLaunch": false,
    "category": "General purpose",
    "gpuNum": 0,
    "hideHardwareSpecs": false,
    "memoryGiB": 32,
    "name": "ml.t3.2xlarge",
    "vcpuNum": 8
   },
   {
    "_defaultOrder": 4,
    "_isFastLaunch": true,
    "category": "General purpose",
    "gpuNum": 0,
    "hideHardwareSpecs": false,
    "memoryGiB": 8,
    "name": "ml.m5.large",
    "vcpuNum": 2
   },
   {
    "_defaultOrder": 5,
    "_isFastLaunch": false,
    "category": "General purpose",
    "gpuNum": 0,
    "hideHardwareSpecs": false,
    "memoryGiB": 16,
    "name": "ml.m5.xlarge",
    "vcpuNum": 4
   },
   {
    "_defaultOrder": 6,
    "_isFastLaunch": false,
    "category": "General purpose",
    "gpuNum": 0,
    "hideHardwareSpecs": false,
    "memoryGiB": 32,
    "name": "ml.m5.2xlarge",
    "vcpuNum": 8
   },
   {
    "_defaultOrder": 7,
    "_isFastLaunch": false,
    "category": "General purpose",
    "gpuNum": 0,
    "hideHardwareSpecs": false,
    "memoryGiB": 64,
    "name": "ml.m5.4xlarge",
    "vcpuNum": 16
   },
   {
    "_defaultOrder": 8,
    "_isFastLaunch": false,
    "category": "General purpose",
    "gpuNum": 0,
    "hideHardwareSpecs": false,
    "memoryGiB": 128,
    "name": "ml.m5.8xlarge",
    "vcpuNum": 32
   },
   {
    "_defaultOrder": 9,
    "_isFastLaunch": false,
    "category": "General purpose",
    "gpuNum": 0,
    "hideHardwareSpecs": false,
    "memoryGiB": 192,
    "name": "ml.m5.12xlarge",
    "vcpuNum": 48
   },
   {
    "_defaultOrder": 10,
    "_isFastLaunch": false,
    "category": "General purpose",
    "gpuNum": 0,
    "hideHardwareSpecs": false,
    "memoryGiB": 256,
    "name": "ml.m5.16xlarge",
    "vcpuNum": 64
   },
   {
    "_defaultOrder": 11,
    "_isFastLaunch": false,
    "category": "General purpose",
    "gpuNum": 0,
    "hideHardwareSpecs": false,
    "memoryGiB": 384,
    "name": "ml.m5.24xlarge",
    "vcpuNum": 96
   },
   {
    "_defaultOrder": 12,
    "_isFastLaunch": false,
    "category": "General purpose",
    "gpuNum": 0,
    "hideHardwareSpecs": false,
    "memoryGiB": 8,
    "name": "ml.m5d.large",
    "vcpuNum": 2
   },
   {
    "_defaultOrder": 13,
    "_isFastLaunch": false,
    "category": "General purpose",
    "gpuNum": 0,
    "hideHardwareSpecs": false,
    "memoryGiB": 16,
    "name": "ml.m5d.xlarge",
    "vcpuNum": 4
   },
   {
    "_defaultOrder": 14,
    "_isFastLaunch": false,
    "category": "General purpose",
    "gpuNum": 0,
    "hideHardwareSpecs": false,
    "memoryGiB": 32,
    "name": "ml.m5d.2xlarge",
    "vcpuNum": 8
   },
   {
    "_defaultOrder": 15,
    "_isFastLaunch": false,
    "category": "General purpose",
    "gpuNum": 0,
    "hideHardwareSpecs": false,
    "memoryGiB": 64,
    "name": "ml.m5d.4xlarge",
    "vcpuNum": 16
   },
   {
    "_defaultOrder": 16,
    "_isFastLaunch": false,
    "category": "General purpose",
    "gpuNum": 0,
    "hideHardwareSpecs": false,
    "memoryGiB": 128,
    "name": "ml.m5d.8xlarge",
    "vcpuNum": 32
   },
   {
    "_defaultOrder": 17,
    "_isFastLaunch": false,
    "category": "General purpose",
    "gpuNum": 0,
    "hideHardwareSpecs": false,
    "memoryGiB": 192,
    "name": "ml.m5d.12xlarge",
    "vcpuNum": 48
   },
   {
    "_defaultOrder": 18,
    "_isFastLaunch": false,
    "category": "General purpose",
    "gpuNum": 0,
    "hideHardwareSpecs": false,
    "memoryGiB": 256,
    "name": "ml.m5d.16xlarge",
    "vcpuNum": 64
   },
   {
    "_defaultOrder": 19,
    "_isFastLaunch": false,
    "category": "General purpose",
    "gpuNum": 0,
    "hideHardwareSpecs": false,
    "memoryGiB": 384,
    "name": "ml.m5d.24xlarge",
    "vcpuNum": 96
   },
   {
    "_defaultOrder": 20,
    "_isFastLaunch": false,
    "category": "General purpose",
    "gpuNum": 0,
    "hideHardwareSpecs": true,
    "memoryGiB": 0,
    "name": "ml.geospatial.interactive",
    "supportedImageNames": [
     "sagemaker-geospatial-v1-0"
    ],
    "vcpuNum": 0
   },
   {
    "_defaultOrder": 21,
    "_isFastLaunch": true,
    "category": "Compute optimized",
    "gpuNum": 0,
    "hideHardwareSpecs": false,
    "memoryGiB": 4,
    "name": "ml.c5.large",
    "vcpuNum": 2
   },
   {
    "_defaultOrder": 22,
    "_isFastLaunch": false,
    "category": "Compute optimized",
    "gpuNum": 0,
    "hideHardwareSpecs": false,
    "memoryGiB": 8,
    "name": "ml.c5.xlarge",
    "vcpuNum": 4
   },
   {
    "_defaultOrder": 23,
    "_isFastLaunch": false,
    "category": "Compute optimized",
    "gpuNum": 0,
    "hideHardwareSpecs": false,
    "memoryGiB": 16,
    "name": "ml.c5.2xlarge",
    "vcpuNum": 8
   },
   {
    "_defaultOrder": 24,
    "_isFastLaunch": false,
    "category": "Compute optimized",
    "gpuNum": 0,
    "hideHardwareSpecs": false,
    "memoryGiB": 32,
    "name": "ml.c5.4xlarge",
    "vcpuNum": 16
   },
   {
    "_defaultOrder": 25,
    "_isFastLaunch": false,
    "category": "Compute optimized",
    "gpuNum": 0,
    "hideHardwareSpecs": false,
    "memoryGiB": 72,
    "name": "ml.c5.9xlarge",
    "vcpuNum": 36
   },
   {
    "_defaultOrder": 26,
    "_isFastLaunch": false,
    "category": "Compute optimized",
    "gpuNum": 0,
    "hideHardwareSpecs": false,
    "memoryGiB": 96,
    "name": "ml.c5.12xlarge",
    "vcpuNum": 48
   },
   {
    "_defaultOrder": 27,
    "_isFastLaunch": false,
    "category": "Compute optimized",
    "gpuNum": 0,
    "hideHardwareSpecs": false,
    "memoryGiB": 144,
    "name": "ml.c5.18xlarge",
    "vcpuNum": 72
   },
   {
    "_defaultOrder": 28,
    "_isFastLaunch": false,
    "category": "Compute optimized",
    "gpuNum": 0,
    "hideHardwareSpecs": false,
    "memoryGiB": 192,
    "name": "ml.c5.24xlarge",
    "vcpuNum": 96
   },
   {
    "_defaultOrder": 29,
    "_isFastLaunch": true,
    "category": "Accelerated computing",
    "gpuNum": 1,
    "hideHardwareSpecs": false,
    "memoryGiB": 16,
    "name": "ml.g4dn.xlarge",
    "vcpuNum": 4
   },
   {
    "_defaultOrder": 30,
    "_isFastLaunch": false,
    "category": "Accelerated computing",
    "gpuNum": 1,
    "hideHardwareSpecs": false,
    "memoryGiB": 32,
    "name": "ml.g4dn.2xlarge",
    "vcpuNum": 8
   },
   {
    "_defaultOrder": 31,
    "_isFastLaunch": false,
    "category": "Accelerated computing",
    "gpuNum": 1,
    "hideHardwareSpecs": false,
    "memoryGiB": 64,
    "name": "ml.g4dn.4xlarge",
    "vcpuNum": 16
   },
   {
    "_defaultOrder": 32,
    "_isFastLaunch": false,
    "category": "Accelerated computing",
    "gpuNum": 1,
    "hideHardwareSpecs": false,
    "memoryGiB": 128,
    "name": "ml.g4dn.8xlarge",
    "vcpuNum": 32
   },
   {
    "_defaultOrder": 33,
    "_isFastLaunch": false,
    "category": "Accelerated computing",
    "gpuNum": 4,
    "hideHardwareSpecs": false,
    "memoryGiB": 192,
    "name": "ml.g4dn.12xlarge",
    "vcpuNum": 48
   },
   {
    "_defaultOrder": 34,
    "_isFastLaunch": false,
    "category": "Accelerated computing",
    "gpuNum": 1,
    "hideHardwareSpecs": false,
    "memoryGiB": 256,
    "name": "ml.g4dn.16xlarge",
    "vcpuNum": 64
   },
   {
    "_defaultOrder": 35,
    "_isFastLaunch": false,
    "category": "Accelerated computing",
    "gpuNum": 1,
    "hideHardwareSpecs": false,
    "memoryGiB": 61,
    "name": "ml.p3.2xlarge",
    "vcpuNum": 8
   },
   {
    "_defaultOrder": 36,
    "_isFastLaunch": false,
    "category": "Accelerated computing",
    "gpuNum": 4,
    "hideHardwareSpecs": false,
    "memoryGiB": 244,
    "name": "ml.p3.8xlarge",
    "vcpuNum": 32
   },
   {
    "_defaultOrder": 37,
    "_isFastLaunch": false,
    "category": "Accelerated computing",
    "gpuNum": 8,
    "hideHardwareSpecs": false,
    "memoryGiB": 488,
    "name": "ml.p3.16xlarge",
    "vcpuNum": 64
   },
   {
    "_defaultOrder": 38,
    "_isFastLaunch": false,
    "category": "Accelerated computing",
    "gpuNum": 8,
    "hideHardwareSpecs": false,
    "memoryGiB": 768,
    "name": "ml.p3dn.24xlarge",
    "vcpuNum": 96
   },
   {
    "_defaultOrder": 39,
    "_isFastLaunch": false,
    "category": "Memory Optimized",
    "gpuNum": 0,
    "hideHardwareSpecs": false,
    "memoryGiB": 16,
    "name": "ml.r5.large",
    "vcpuNum": 2
   },
   {
    "_defaultOrder": 40,
    "_isFastLaunch": false,
    "category": "Memory Optimized",
    "gpuNum": 0,
    "hideHardwareSpecs": false,
    "memoryGiB": 32,
    "name": "ml.r5.xlarge",
    "vcpuNum": 4
   },
   {
    "_defaultOrder": 41,
    "_isFastLaunch": false,
    "category": "Memory Optimized",
    "gpuNum": 0,
    "hideHardwareSpecs": false,
    "memoryGiB": 64,
    "name": "ml.r5.2xlarge",
    "vcpuNum": 8
   },
   {
    "_defaultOrder": 42,
    "_isFastLaunch": false,
    "category": "Memory Optimized",
    "gpuNum": 0,
    "hideHardwareSpecs": false,
    "memoryGiB": 128,
    "name": "ml.r5.4xlarge",
    "vcpuNum": 16
   },
   {
    "_defaultOrder": 43,
    "_isFastLaunch": false,
    "category": "Memory Optimized",
    "gpuNum": 0,
    "hideHardwareSpecs": false,
    "memoryGiB": 256,
    "name": "ml.r5.8xlarge",
    "vcpuNum": 32
   },
   {
    "_defaultOrder": 44,
    "_isFastLaunch": false,
    "category": "Memory Optimized",
    "gpuNum": 0,
    "hideHardwareSpecs": false,
    "memoryGiB": 384,
    "name": "ml.r5.12xlarge",
    "vcpuNum": 48
   },
   {
    "_defaultOrder": 45,
    "_isFastLaunch": false,
    "category": "Memory Optimized",
    "gpuNum": 0,
    "hideHardwareSpecs": false,
    "memoryGiB": 512,
    "name": "ml.r5.16xlarge",
    "vcpuNum": 64
   },
   {
    "_defaultOrder": 46,
    "_isFastLaunch": false,
    "category": "Memory Optimized",
    "gpuNum": 0,
    "hideHardwareSpecs": false,
    "memoryGiB": 768,
    "name": "ml.r5.24xlarge",
    "vcpuNum": 96
   },
   {
    "_defaultOrder": 47,
    "_isFastLaunch": false,
    "category": "Accelerated computing",
    "gpuNum": 1,
    "hideHardwareSpecs": false,
    "memoryGiB": 16,
    "name": "ml.g5.xlarge",
    "vcpuNum": 4
   },
   {
    "_defaultOrder": 48,
    "_isFastLaunch": false,
    "category": "Accelerated computing",
    "gpuNum": 1,
    "hideHardwareSpecs": false,
    "memoryGiB": 32,
    "name": "ml.g5.2xlarge",
    "vcpuNum": 8
   },
   {
    "_defaultOrder": 49,
    "_isFastLaunch": false,
    "category": "Accelerated computing",
    "gpuNum": 1,
    "hideHardwareSpecs": false,
    "memoryGiB": 64,
    "name": "ml.g5.4xlarge",
    "vcpuNum": 16
   },
   {
    "_defaultOrder": 50,
    "_isFastLaunch": false,
    "category": "Accelerated computing",
    "gpuNum": 1,
    "hideHardwareSpecs": false,
    "memoryGiB": 128,
    "name": "ml.g5.8xlarge",
    "vcpuNum": 32
   },
   {
    "_defaultOrder": 51,
    "_isFastLaunch": false,
    "category": "Accelerated computing",
    "gpuNum": 1,
    "hideHardwareSpecs": false,
    "memoryGiB": 256,
    "name": "ml.g5.16xlarge",
    "vcpuNum": 64
   },
   {
    "_defaultOrder": 52,
    "_isFastLaunch": false,
    "category": "Accelerated computing",
    "gpuNum": 4,
    "hideHardwareSpecs": false,
    "memoryGiB": 192,
    "name": "ml.g5.12xlarge",
    "vcpuNum": 48
   },
   {
    "_defaultOrder": 53,
    "_isFastLaunch": false,
    "category": "Accelerated computing",
    "gpuNum": 4,
    "hideHardwareSpecs": false,
    "memoryGiB": 384,
    "name": "ml.g5.24xlarge",
    "vcpuNum": 96
   },
   {
    "_defaultOrder": 54,
    "_isFastLaunch": false,
    "category": "Accelerated computing",
    "gpuNum": 8,
    "hideHardwareSpecs": false,
    "memoryGiB": 768,
    "name": "ml.g5.48xlarge",
    "vcpuNum": 192
   },
   {
    "_defaultOrder": 55,
    "_isFastLaunch": false,
    "category": "Accelerated computing",
    "gpuNum": 8,
    "hideHardwareSpecs": false,
    "memoryGiB": 1152,
    "name": "ml.p4d.24xlarge",
    "vcpuNum": 96
   },
   {
    "_defaultOrder": 56,
    "_isFastLaunch": false,
    "category": "Accelerated computing",
    "gpuNum": 8,
    "hideHardwareSpecs": false,
    "memoryGiB": 1152,
    "name": "ml.p4de.24xlarge",
    "vcpuNum": 96
   },
   {
    "_defaultOrder": 57,
    "_isFastLaunch": false,
    "category": "Accelerated computing",
    "gpuNum": 0,
    "hideHardwareSpecs": false,
    "memoryGiB": 32,
    "name": "ml.trn1.2xlarge",
    "vcpuNum": 8
   },
   {
    "_defaultOrder": 58,
    "_isFastLaunch": false,
    "category": "Accelerated computing",
    "gpuNum": 0,
    "hideHardwareSpecs": false,
    "memoryGiB": 512,
    "name": "ml.trn1.32xlarge",
    "vcpuNum": 128
   },
   {
    "_defaultOrder": 59,
    "_isFastLaunch": false,
    "category": "Accelerated computing",
    "gpuNum": 0,
    "hideHardwareSpecs": false,
    "memoryGiB": 512,
    "name": "ml.trn1n.32xlarge",
    "vcpuNum": 128
   }
  ],
  "instance_type": "ml.m5.8xlarge",
  "kernelspec": {
   "display_name": "SparkMagic PySpark (SparkAnalytics 3.0)",
   "language": "python",
   "name": "pysparkkernel__SAGEMAKER_INTERNAL__arn:aws:sagemaker:us-west-2:236514542706:image/sagemaker-sparkanalytics-311-v1"
  },
  "language_info": {
   "codemirror_mode": {
    "name": "python",
    "version": 3
   },
   "file_extension": ".py",
   "mimetype": "text/x-python",
   "name": "pyspark",
   "pygments_lexer": "python3"
  },
  "lcc_arn": "arn:aws:sagemaker:us-west-2:128519002737:studio-lifecycle-config/revrelvnc-studio-KernelGateway-default-lifecycle-config"
 },
 "nbformat": 4,
 "nbformat_minor": 5
}
